{
 "cells": [
  {
   "cell_type": "code",
   "execution_count": 13,
   "id": "eeccd86b-1189-458e-a1bb-062c4f432ee1",
   "metadata": {},
   "outputs": [
    {
     "name": "stdin",
     "output_type": "stream",
     "text": [
      "enter your string nitish\n"
     ]
    },
    {
     "name": "stdout",
     "output_type": "stream",
     "text": [
      "hsitin\n"
     ]
    }
   ],
   "source": [
    "#1.Write a Python program to reverse a string.\n",
    "string=input('enter your string')\n",
    "reversed_string=string[::-1]\n",
    "print(reversed_string)"
   ]
  },
  {
   "cell_type": "code",
   "execution_count": 7,
   "id": "e8a62595-f390-428e-8495-00f87fa4145a",
   "metadata": {},
   "outputs": [
    {
     "name": "stdin",
     "output_type": "stream",
     "text": [
      "enter your string nitish\n"
     ]
    },
    {
     "name": "stdout",
     "output_type": "stream",
     "text": [
      "no vowels found in your string\n",
      "vowels i\n",
      "no vowels found in your string\n",
      "vowels i\n",
      "no vowels found in your string\n",
      "no vowels found in your string\n"
     ]
    }
   ],
   "source": [
    "# to find vowels\n",
    "string=input('enter your string')\n",
    "vowels=['a','e','i','o','u','A','E','I','O','U']\n",
    "for i in string:\n",
    "    if i in vowels:\n",
    "        print('vowels',i)\n",
    "    else:\n",
    "        print('no vowels found in your string')\n",
    "    "
   ]
  },
  {
   "cell_type": "code",
   "execution_count": 57,
   "id": "cc0ab1ee-d923-49a1-ba07-88a19fdc8d1f",
   "metadata": {},
   "outputs": [
    {
     "name": "stdin",
     "output_type": "stream",
     "text": [
      "enter your string nitish\n"
     ]
    },
    {
     "name": "stdout",
     "output_type": "stream",
     "text": [
      "The number of vowels in the word 'nitish' is 1.\n"
     ]
    }
   ],
   "source": [
    "#2.Write a python program to Counting Vowels in Word.\n",
    "string=input('enter your string')\n",
    "vowels=['a','e','i','o','u','A','E','I','O','U']\n",
    "def count_vowels(string):\n",
    "    count=0\n",
    "    for i in string:\n",
    "        if i in vowels:\n",
    "            count=+1\n",
    "    return count\n",
    "vowels_count=count_vowels(string)\n",
    "print(f\"The number of vowels in the word '{string}' is {vowels_count}.\")"
   ]
  },
  {
   "cell_type": "code",
   "execution_count": 15,
   "id": "73c2158f-1b68-4189-a435-f70e4c918140",
   "metadata": {},
   "outputs": [
    {
     "name": "stdin",
     "output_type": "stream",
     "text": [
      "enter your number 9\n"
     ]
    },
    {
     "data": {
      "text/plain": [
       "81"
      ]
     },
     "execution_count": 15,
     "metadata": {},
     "output_type": "execute_result"
    }
   ],
   "source": [
    "#3. Python Program to calculate the square of a given number.\n",
    "def square(num):\n",
    "    return num*num\n",
    "\n",
    "square(num=int(input('enter your number')))    "
   ]
  },
  {
   "cell_type": "code",
   "execution_count": 17,
   "id": "89a912c1-4182-4cf2-8020-60f9228dc6b9",
   "metadata": {},
   "outputs": [
    {
     "name": "stdin",
     "output_type": "stream",
     "text": [
      "enter your number 25\n",
      "enter your number 35\n",
      "enter your number 45\n"
     ]
    },
    {
     "name": "stdout",
     "output_type": "stream",
     "text": [
      "25 is smallest amoung 3 numbers\n"
     ]
    }
   ],
   "source": [
    "#4. Python Program to find smallest number among three.\n",
    "num1=int(input('enter your number'))\n",
    "num2=int(input('enter your number'))\n",
    "num3=int(input('enter your number'))\n",
    "\n",
    "if num1<=num2 or num1<=num3:\n",
    "    print(f'{num1} is smallest amoung 3 numbers')\n",
    "\n",
    "elif num2<=num1 or num2<=num3:\n",
    "    print(f'{num2} is smallest amoung 3 numbers') \n",
    "\n",
    "else:\n",
    "    print(f'{num3} is smallest amoung 3 numbers')\n",
    "      "
   ]
  },
  {
   "cell_type": "code",
   "execution_count": 19,
   "id": "023cad2f-cf1b-47e6-beb1-25a2ea8a13f8",
   "metadata": {},
   "outputs": [
    {
     "name": "stdout",
     "output_type": "stream",
     "text": [
      "{'c', 'java', 'python'}\n"
     ]
    }
   ],
   "source": [
    "#5. Write a Python program to remove duplicates from a list.\n",
    "languages=['python','java','c','java']\n",
    "list2=set(languages)\n",
    "print(list2)"
   ]
  },
  {
   "cell_type": "code",
   "execution_count": 21,
   "id": "ba6f0aca-00a1-4e01-a154-dec7c716a338",
   "metadata": {},
   "outputs": [
    {
     "name": "stdout",
     "output_type": "stream",
     "text": [
      "['h', 'i', 'i', 'n', 's', 't']\n"
     ]
    }
   ],
   "source": [
    "#6. Python Program to sort characters of string in ascending order.\n",
    "character=['n','i','t','i','s','h']\n",
    "sorted_character=sorted(character)\n",
    "print(sorted_character)"
   ]
  },
  {
   "cell_type": "code",
   "execution_count": 23,
   "id": "8f7e9fed-6aa3-4e64-827e-5ad309a765dc",
   "metadata": {},
   "outputs": [
    {
     "name": "stdout",
     "output_type": "stream",
     "text": [
      "['t', 's', 'n', 'i', 'i', 'h']\n"
     ]
    }
   ],
   "source": [
    "#7. Python Program to sort character of string in descending order.\n",
    "character=['n','i','t','i','s','h']\n",
    "sorted_character=sorted(character, reverse=True)\n",
    "print(sorted_character)"
   ]
  },
  {
   "cell_type": "code",
   "execution_count": 69,
   "id": "43b0ea4b-6f27-457b-9eb7-69d11aaedbcd",
   "metadata": {},
   "outputs": [
    {
     "name": "stdin",
     "output_type": "stream",
     "text": [
      "enter your string deed\n"
     ]
    },
    {
     "name": "stdout",
     "output_type": "stream",
     "text": [
      "It is a palindrome\n"
     ]
    }
   ],
   "source": [
    "#8.palindrome\n",
    "string=input('enter your string')\n",
    "def palindrome(string):\n",
    "    return string==string[::-1]\n",
    "palindrome(string)\n",
    "if palindrome(string):\n",
    "    print('It is a palindrome')\n",
    "else:\n",
    "    print('It is a not palindrome')"
   ]
  },
  {
   "cell_type": "code",
   "execution_count": 27,
   "id": "6217a09d-8810-414e-99f2-5524db6a0cd8",
   "metadata": {},
   "outputs": [
    {
     "name": "stdout",
     "output_type": "stream",
     "text": [
      "99\n"
     ]
    }
   ],
   "source": [
    "#9.Write a python program to Find the Maximum Number in a List.\n",
    "list=[75,25,35,72,99]\n",
    "list2=max(list)\n",
    "print(list2)"
   ]
  },
  {
   "cell_type": "code",
   "execution_count": 25,
   "id": "8cc2af18-e4aa-46dd-8e4d-3cbb317bb94f",
   "metadata": {},
   "outputs": [
    {
     "name": "stdout",
     "output_type": "stream",
     "text": [
      "25\n"
     ]
    }
   ],
   "source": [
    "#10.Write a python program to Find the Minimum Number in a List.\n",
    "list=[75,25,35,72,99]\n",
    "list2=min(list)\n",
    "print(list2)"
   ]
  },
  {
   "cell_type": "code",
   "execution_count": 29,
   "id": "9e0146be-2733-493a-b5ea-3f18f103ef74",
   "metadata": {},
   "outputs": [
    {
     "name": "stdout",
     "output_type": "stream",
     "text": [
      "35\n",
      "24\n"
     ]
    }
   ],
   "source": [
    "#11. Write a program in Python to swap two numbers without using third variable?\n",
    "a=24\n",
    "b=35\n",
    "a,b=b,a\n",
    "print(a)\n",
    "print(b)"
   ]
  },
  {
   "cell_type": "code",
   "execution_count": 31,
   "id": "03a895bf-c983-493d-9292-59df84468f93",
   "metadata": {},
   "outputs": [
    {
     "name": "stdout",
     "output_type": "stream",
     "text": [
      "nitish\n"
     ]
    }
   ],
   "source": [
    "#12. Python program to copy one string to another string.\n",
    "\n",
    "a='nitish'\n",
    "b=a[0:7]\n",
    "print(b)"
   ]
  },
  {
   "cell_type": "code",
   "execution_count": 33,
   "id": "da0964f9-62e1-4e35-965d-ca1da057d428",
   "metadata": {},
   "outputs": [
    {
     "name": "stdin",
     "output_type": "stream",
     "text": [
      "enter your number 9\n"
     ]
    },
    {
     "name": "stdout",
     "output_type": "stream",
     "text": [
      "9 is not a prime number\n"
     ]
    }
   ],
   "source": [
    "#13.Write a Python program to check if a number is prime.\n",
    "num=int(input('enter your number'))\n",
    "\n",
    "if num > 1:\n",
    "        for i in range(2 ,num):\n",
    "\n",
    "            if (num % i)==0:\n",
    "                print(num,'is not a prime number')\n",
    "                break\n",
    "        else:           \n",
    "            print(num,'is a prime number')"
   ]
  },
  {
   "cell_type": "code",
   "execution_count": 35,
   "id": "7738caf1-c424-499c-9510-c87e57531ef4",
   "metadata": {},
   "outputs": [
    {
     "name": "stdin",
     "output_type": "stream",
     "text": [
      "enter your number 5\n"
     ]
    },
    {
     "name": "stdout",
     "output_type": "stream",
     "text": [
      "120\n"
     ]
    }
   ],
   "source": [
    "#14.Write a Python program to find the factorial of a number.\n",
    "\n",
    "import math\n",
    "num=int(input('enter your number'))\n",
    "\n",
    "factorial=math.factorial(num)\n",
    "print(factorial)"
   ]
  },
  {
   "cell_type": "code",
   "execution_count": 85,
   "id": "948fe108-5c0e-4612-bd72-20f985a8fa31",
   "metadata": {},
   "outputs": [
    {
     "name": "stdin",
     "output_type": "stream",
     "text": [
      "enter your number 20\n",
      "enter your number 30\n"
     ]
    },
    {
     "name": "stdout",
     "output_type": "stream",
     "text": [
      "60\n"
     ]
    }
   ],
   "source": [
    "#15.Python program to calculate LCM of given two numbers.\n",
    "import math\n",
    "num1=int(input('enter your number'))\n",
    "num2=int(input('enter your number'))\n",
    "lcm=math.lcm(num1,num2)\n",
    "print(lcm)"
   ]
  },
  {
   "cell_type": "code",
   "execution_count": 87,
   "id": "d091a09f-eb7e-4cbd-987e-72f7b6e724e0",
   "metadata": {},
   "outputs": [
    {
     "name": "stdout",
     "output_type": "stream",
     "text": [
      "Vamsi\n"
     ]
    }
   ],
   "source": [
    "#16.Write a Python program to find the largest element in a list.\n",
    "list=['Nitish','Deva','Sandeep','Vamsi','Sakku']\n",
    "\n",
    "largest_element=max(list)\n",
    "print(largest_element)\n",
    "\n"
   ]
  },
  {
   "cell_type": "code",
   "execution_count": 89,
   "id": "eef467a0-934b-4d38-a29e-51664290e147",
   "metadata": {},
   "outputs": [
    {
     "name": "stdout",
     "output_type": "stream",
     "text": [
      "common elements between two lists are {'Deva', 'Sandeep'}\n"
     ]
    }
   ],
   "source": [
    "#17.Write a Python program to find the common elements between two lists.\n",
    "list1=['Nitish','Deva','Sandeep','Vamsi','Sakku']\n",
    "list2=['kumar','Revanth','Sandeep','Deva','Hassan']\n",
    "\n",
    "a=set(list1)\n",
    "b=set(list2)\n",
    "\n",
    "common_elements=a.intersection(b)\n",
    "print('common elements between two lists are',common_elements)\n",
    "\n"
   ]
  },
  {
   "cell_type": "code",
   "execution_count": 91,
   "id": "b806ceff-17db-4fb8-a6ab-206050560d5a",
   "metadata": {},
   "outputs": [
    {
     "name": "stdout",
     "output_type": "stream",
     "text": [
      "2\n"
     ]
    }
   ],
   "source": [
    "#18.Write a python Program to Count the Number of Occurrences of a Character in a String.\n",
    "string='Nitish'\n",
    "count=string.count('i')\n",
    "print(count)"
   ]
  },
  {
   "cell_type": "code",
   "execution_count": 15,
   "id": "146f51b8-f79a-463e-af22-6b94641af7db",
   "metadata": {},
   "outputs": [
    {
     "name": "stdin",
     "output_type": "stream",
     "text": [
      "enter your string nitish\n",
      "enter your char i\n"
     ]
    },
    {
     "name": "stdout",
     "output_type": "stream",
     "text": [
      "2 times\n"
     ]
    }
   ],
   "source": [
    "string=input('enter your string')\n",
    "char=input('enter your char')\n",
    "count=string.count(char)\n",
    "print(count,'times')"
   ]
  },
  {
   "cell_type": "code",
   "execution_count": 93,
   "id": "8f9e7403-44ed-4dd2-a0b4-fed991551700",
   "metadata": {},
   "outputs": [
    {
     "name": "stdin",
     "output_type": "stream",
     "text": [
      "enter number of series you want 15\n"
     ]
    },
    {
     "name": "stdout",
     "output_type": "stream",
     "text": [
      "1 2 3 5 8 13 21 34 55 89 144 233 377 610 987 "
     ]
    }
   ],
   "source": [
    "#19. Fibonaaci series\n",
    "n =int(input('enter number of series you want'))\n",
    "num1 = 0\n",
    "num2 = 1\n",
    "next_number = num2 \n",
    "count = 1\n",
    "\n",
    "while count <= n:\n",
    "\tprint(next_number, end=\" \")\n",
    "\tcount += 1\n",
    "\tnum1, num2 = num2, next_number\n",
    "\tnext_number = num1 + num2"
   ]
  },
  {
   "cell_type": "code",
   "execution_count": 95,
   "id": "2a34236f-e0e6-4bac-8fca-eff233032c3b",
   "metadata": {},
   "outputs": [
    {
     "name": "stdin",
     "output_type": "stream",
     "text": [
      "enter yor string nitish\n"
     ]
    },
    {
     "name": "stdout",
     "output_type": "stream",
     "text": [
      "first non repeating characters: n\n"
     ]
    }
   ],
   "source": [
    "#20.Find first non repeating characters in a string\n",
    "string=input('enter yor string')\n",
    "l=len(string)\n",
    "flag=0\n",
    "for i in range(l):\n",
    "    flag=0\n",
    "    for j in range(l):\n",
    "        if string[i] == string[j] and i!= j:\n",
    "            flag=1\n",
    "            break\n",
    "    if flag==0:\n",
    "        print('first non repeating characters:',string[i])\n",
    "        break\n",
    "if flag== 1:\n",
    "    print('No non repeating characters')"
   ]
  },
  {
   "cell_type": "code",
   "execution_count": 97,
   "id": "ddf78064-571e-4e2c-9970-0b35136aa41b",
   "metadata": {},
   "outputs": [
    {
     "name": "stdout",
     "output_type": "stream",
     "text": [
      "Frequency of each element: {1: 1, 2: 2, 3: 3, 4: 4}\n"
     ]
    }
   ],
   "source": [
    "#21.Write a Python program to count the frequency of each element in a list.\n",
    "def count_frequency(elements):\n",
    "    # Create an empty dictionary to hold the frequency count\n",
    "    frequency = {}\n",
    "    \n",
    "    # Iterate over each element in the list\n",
    "    for element in elements:\n",
    "        # Update the count of the element in the dictionary\n",
    "        if element in frequency:\n",
    "            frequency[element] += 1\n",
    "        else:\n",
    "            frequency[element] = 1\n",
    "    \n",
    "    return frequency\n",
    "\n",
    "# Example usage:\n",
    "elements = [1, 2, 2, 3, 3, 3, 4, 4, 4, 4]\n",
    "\n",
    "frequency = count_frequency(elements)\n",
    "print(\"Frequency of each element:\", frequency)\n"
   ]
  },
  {
   "cell_type": "code",
   "execution_count": 9,
   "id": "e3fbb37c-845d-488c-a965-76f0693bc3d1",
   "metadata": {},
   "outputs": [
    {
     "name": "stdout",
     "output_type": "stream",
     "text": [
      "the second largest number in a list 96\n"
     ]
    }
   ],
   "source": [
    "#22.Write a Python program to find the second largest number in a list.\n",
    "numbers=[35,46,99,62,57,96,57,24,68,99]\n",
    "\n",
    "def find_second_largest(numbers):\n",
    "    a=list(set(numbers))\n",
    "    a.sort(reverse=True)\n",
    "    return a[1]\n",
    "second_largest=find_second_largest(numbers)\n",
    "print('the second largest number in a list',second_largest)"
   ]
  },
  {
   "cell_type": "code",
   "execution_count": 11,
   "id": "b16b5206-29fb-4d1c-be88-66bcbcd42a86",
   "metadata": {},
   "outputs": [
    {
     "name": "stdout",
     "output_type": "stream",
     "text": [
      "no of open parenthesis 3\n",
      "no of close parenthesis 3\n"
     ]
    }
   ],
   "source": [
    "#23. parenthesis count in a string\n",
    "string='(python)(is)(good)'\n",
    "def count_parenthesis(string):\n",
    "    open_parenthesis=string.count('(')\n",
    "    close_parenthesis=string.count(')')\n",
    "    return open_parenthesis,close_parenthesis\n",
    "\n",
    "open_count,close_count=count_parenthesis(string)\n",
    "print('no of open parenthesis',open_count)\n",
    "print('no of close parenthesis',close_count)"
   ]
  },
  {
   "cell_type": "code",
   "execution_count": null,
   "id": "ac713fa9-f216-4015-9a0e-f344b4903ce5",
   "metadata": {},
   "outputs": [],
   "source": []
  }
 ],
 "metadata": {
  "kernelspec": {
   "display_name": "Python 3 (ipykernel)",
   "language": "python",
   "name": "python3"
  },
  "language_info": {
   "codemirror_mode": {
    "name": "ipython",
    "version": 3
   },
   "file_extension": ".py",
   "mimetype": "text/x-python",
   "name": "python",
   "nbconvert_exporter": "python",
   "pygments_lexer": "ipython3",
   "version": "3.12.4"
  }
 },
 "nbformat": 4,
 "nbformat_minor": 5
}
